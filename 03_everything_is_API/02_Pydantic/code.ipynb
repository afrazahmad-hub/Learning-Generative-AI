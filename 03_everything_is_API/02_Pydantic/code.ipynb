{
 "cells": [
  {
   "cell_type": "code",
   "execution_count": 1,
   "metadata": {},
   "outputs": [
    {
     "name": "stdout",
     "output_type": "stream",
     "text": [
      "Collecting pydantic (from -r requirements.txt (line 1))Note: you may need to restart the kernel to use updated packages.\n",
      "\n",
      "  Obtaining dependency information for pydantic from https://files.pythonhosted.org/packages/dd/b7/9aea7ee6c01fe3f3c03b8ca3c7797c866df5fecece9d6cb27caa138db2e2/pydantic-2.5.3-py3-none-any.whl.metadata\n",
      "  Downloading pydantic-2.5.3-py3-none-any.whl.metadata (65 kB)\n",
      "     ---------------------------------------- 0.0/65.6 kB ? eta -:--:--\n",
      "     ------ --------------------------------- 10.2/65.6 kB ? eta -:--:--\n",
      "     ------ --------------------------------- 10.2/65.6 kB ? eta -:--:--\n",
      "     ----------------- -------------------- 30.7/65.6 kB 217.9 kB/s eta 0:00:01\n",
      "     ----------------------- -------------- 41.0/65.6 kB 217.9 kB/s eta 0:00:01\n",
      "     ----------------------------------- -- 61.4/65.6 kB 297.7 kB/s eta 0:00:01\n",
      "     -------------------------------------- 65.6/65.6 kB 252.8 kB/s eta 0:00:00\n",
      "Collecting email-validator (from -r requirements.txt (line 2))\n",
      "  Obtaining dependency information for email-validator from https://files.pythonhosted.org/packages/09/68/d237a603d524ba052e292d71c89939bfa70e3ec7963b255cc3ef7a8770a0/email_validator-2.1.0.post1-py3-none-any.whl.metadata\n",
      "  Downloading email_validator-2.1.0.post1-py3-none-any.whl.metadata (25 kB)\n",
      "Collecting annotated-types>=0.4.0 (from pydantic->-r requirements.txt (line 1))\n",
      "  Obtaining dependency information for annotated-types>=0.4.0 from https://files.pythonhosted.org/packages/28/78/d31230046e58c207284c6b2c4e8d96e6d3cb4e52354721b944d3e1ee4aa5/annotated_types-0.6.0-py3-none-any.whl.metadata\n",
      "  Using cached annotated_types-0.6.0-py3-none-any.whl.metadata (12 kB)\n",
      "Collecting pydantic-core==2.14.6 (from pydantic->-r requirements.txt (line 1))\n",
      "  Obtaining dependency information for pydantic-core==2.14.6 from https://files.pythonhosted.org/packages/84/13/afa2b5c336d30a43592f9bc8d5769ccd15b32b4ef243bd792496fe336925/pydantic_core-2.14.6-cp312-none-win_amd64.whl.metadata\n",
      "  Downloading pydantic_core-2.14.6-cp312-none-win_amd64.whl.metadata (6.6 kB)\n",
      "Requirement already satisfied: typing-extensions>=4.6.1 in c:\\users\\afzal\\miniconda3\\envs\\python12\\lib\\site-packages (from pydantic->-r requirements.txt (line 1)) (4.9.0)\n",
      "Collecting dnspython>=2.0.0 (from email-validator->-r requirements.txt (line 2))\n",
      "  Obtaining dependency information for dnspython>=2.0.0 from https://files.pythonhosted.org/packages/b6/83/4a684a63d395007670bc95c1947c07045fe66141574e2f7e9e347df8499a/dnspython-2.5.0-py3-none-any.whl.metadata\n",
      "  Downloading dnspython-2.5.0-py3-none-any.whl.metadata (5.8 kB)\n",
      "Requirement already satisfied: idna>=2.0.0 in c:\\users\\afzal\\miniconda3\\envs\\python12\\lib\\site-packages (from email-validator->-r requirements.txt (line 2)) (3.6)\n",
      "Downloading pydantic-2.5.3-py3-none-any.whl (381 kB)\n",
      "   ---------------------------------------- 0.0/381.9 kB ? eta -:--:--\n",
      "   --------- ------------------------------ 92.2/381.9 kB 1.7 MB/s eta 0:00:01\n",
      "   --------------------- ------------------ 204.8/381.9 kB 1.4 MB/s eta 0:00:01\n",
      "   ---------------------------------- ----- 327.7/381.9 kB 1.7 MB/s eta 0:00:01\n",
      "   ---------------------------------------  378.9/381.9 kB 1.8 MB/s eta 0:00:01\n",
      "   ---------------------------------------  378.9/381.9 kB 1.8 MB/s eta 0:00:01\n",
      "   ---------------------------------------- 381.9/381.9 kB 1.3 MB/s eta 0:00:00\n",
      "Downloading pydantic_core-2.14.6-cp312-none-win_amd64.whl (1.9 MB)\n",
      "   ---------------------------------------- 0.0/1.9 MB ? eta -:--:--\n",
      "   --- ------------------------------------ 0.1/1.9 MB 4.2 MB/s eta 0:00:01\n",
      "   --- ------------------------------------ 0.1/1.9 MB 4.2 MB/s eta 0:00:01\n",
      "   ------- -------------------------------- 0.4/1.9 MB 2.5 MB/s eta 0:00:01\n",
      "   ---------- ----------------------------- 0.5/1.9 MB 2.5 MB/s eta 0:00:01\n",
      "   ------------- -------------------------- 0.6/1.9 MB 2.5 MB/s eta 0:00:01\n",
      "   ---------------- ----------------------- 0.8/1.9 MB 2.6 MB/s eta 0:00:01\n",
      "   ------------------- -------------------- 0.9/1.9 MB 2.7 MB/s eta 0:00:01\n",
      "   ---------------------- ----------------- 1.1/1.9 MB 2.7 MB/s eta 0:00:01\n",
      "   --------------------------- ------------ 1.3/1.9 MB 2.7 MB/s eta 0:00:01\n",
      "   ------------------------------ --------- 1.4/1.9 MB 2.7 MB/s eta 0:00:01\n",
      "   --------------------------------- ------ 1.6/1.9 MB 2.8 MB/s eta 0:00:01\n",
      "   ------------------------------------ --- 1.7/1.9 MB 2.9 MB/s eta 0:00:01\n",
      "   ---------------------------------------  1.9/1.9 MB 2.9 MB/s eta 0:00:01\n",
      "   ---------------------------------------  1.9/1.9 MB 2.9 MB/s eta 0:00:01\n",
      "   ---------------------------------------- 1.9/1.9 MB 2.5 MB/s eta 0:00:00\n",
      "Downloading email_validator-2.1.0.post1-py3-none-any.whl (32 kB)\n",
      "Using cached annotated_types-0.6.0-py3-none-any.whl (12 kB)\n",
      "Downloading dnspython-2.5.0-py3-none-any.whl (305 kB)\n",
      "   ---------------------------------------- 0.0/305.4 kB ? eta -:--:--\n",
      "   ------------------------- -------------- 194.6/305.4 kB 3.9 MB/s eta 0:00:01\n",
      "   -------------------------------------- - 297.0/305.4 kB 4.6 MB/s eta 0:00:01\n",
      "   ---------------------------------------- 305.4/305.4 kB 2.1 MB/s eta 0:00:00\n",
      "Installing collected packages: pydantic-core, dnspython, annotated-types, pydantic, email-validator\n",
      "Successfully installed annotated-types-0.6.0 dnspython-2.5.0 email-validator-2.1.0.post1 pydantic-2.5.3 pydantic-core-2.14.6\n"
     ]
    }
   ],
   "source": [
    "%pip install -r requirements.txt"
   ]
  },
  {
   "cell_type": "markdown",
   "metadata": {},
   "source": [
    "### Data Validation\n"
   ]
  },
  {
   "cell_type": "code",
   "execution_count": 4,
   "metadata": {},
   "outputs": [
    {
     "data": {
      "text/plain": [
       "{'timeStamp': datetime.datetime(2020, 1, 2, 3, 4, 5, tzinfo=TzInfo(UTC)),\n",
       " 'dimensios': (10, 20)}"
      ]
     },
     "metadata": {},
     "output_type": "display_data"
    },
    {
     "data": {
      "text/plain": [
       "'Product Time Stamp '"
      ]
     },
     "metadata": {},
     "output_type": "display_data"
    },
    {
     "data": {
      "text/plain": [
       "datetime.datetime(2020, 1, 2, 3, 4, 5, tzinfo=TzInfo(UTC))"
      ]
     },
     "metadata": {},
     "output_type": "display_data"
    },
    {
     "data": {
      "text/plain": [
       "'Product Dimensions '"
      ]
     },
     "metadata": {},
     "output_type": "display_data"
    },
    {
     "data": {
      "text/plain": [
       "(10, 20)"
      ]
     },
     "metadata": {},
     "output_type": "display_data"
    }
   ],
   "source": [
    "from datetime import datetime\n",
    "from typing import Tuple\n",
    "\n",
    "from pydantic import BaseModel\n",
    "\n",
    "\n",
    "class Dlivery(BaseModel):\n",
    "    timeStamp : datetime\n",
    "    dimensios : Tuple[int, int]\n",
    "\n",
    "product = Dlivery(timeStamp= \"2020-01-02T03:04:05Z\", dimensios= [10, 20])\n",
    "\n",
    "display(dict(product))\n",
    "display(\"Product Time Stamp \", product.timeStamp)\n",
    "display(\"Product Dimensions \", product.dimensios)"
   ]
  },
  {
   "cell_type": "markdown",
   "metadata": {},
   "source": [
    "### Generating Error in data validation"
   ]
  },
  {
   "cell_type": "code",
   "execution_count": 7,
   "metadata": {},
   "outputs": [
    {
     "ename": "ValidationError",
     "evalue": "1 validation error for Dlivery\ndimensios.0\n  Input should be a valid integer, got a number with a fractional part [type=int_from_float, input_value=10.7, input_type=float]\n    For further information visit https://errors.pydantic.dev/2.5/v/int_from_float",
     "output_type": "error",
     "traceback": [
      "\u001b[1;31m---------------------------------------------------------------------------\u001b[0m",
      "\u001b[1;31mValidationError\u001b[0m                           Traceback (most recent call last)",
      "Cell \u001b[1;32mIn[7], line 11\u001b[0m\n\u001b[0;32m      8\u001b[0m     timeStamp : datetime\n\u001b[0;32m      9\u001b[0m     dimensios : Tuple[\u001b[38;5;28mint\u001b[39m, \u001b[38;5;28mint\u001b[39m]\n\u001b[1;32m---> 11\u001b[0m product \u001b[38;5;241m=\u001b[39m \u001b[43mDlivery\u001b[49m\u001b[43m(\u001b[49m\u001b[43mtimeStamp\u001b[49m\u001b[38;5;241;43m=\u001b[39;49m\u001b[43m \u001b[49m\u001b[38;5;124;43m\"\u001b[39;49m\u001b[38;5;124;43m2020-01-02T03:04:05Z\u001b[39;49m\u001b[38;5;124;43m\"\u001b[39;49m\u001b[43m,\u001b[49m\u001b[43m \u001b[49m\u001b[43mdimensios\u001b[49m\u001b[38;5;241;43m=\u001b[39;49m\u001b[43m \u001b[49m\u001b[43m[\u001b[49m\u001b[38;5;241;43m10.7\u001b[39;49m\u001b[43m,\u001b[49m\u001b[43m \u001b[49m\u001b[38;5;241;43m20\u001b[39;49m\u001b[43m]\u001b[49m\u001b[43m)\u001b[49m\n\u001b[0;32m     12\u001b[0m display(product)\n",
      "File \u001b[1;32mc:\\Users\\Afzal\\miniconda3\\envs\\python12\\Lib\\site-packages\\pydantic\\main.py:164\u001b[0m, in \u001b[0;36mBaseModel.__init__\u001b[1;34m(__pydantic_self__, **data)\u001b[0m\n\u001b[0;32m    162\u001b[0m \u001b[38;5;66;03m# `__tracebackhide__` tells pytest and some other tools to omit this function from tracebacks\u001b[39;00m\n\u001b[0;32m    163\u001b[0m __tracebackhide__ \u001b[38;5;241m=\u001b[39m \u001b[38;5;28;01mTrue\u001b[39;00m\n\u001b[1;32m--> 164\u001b[0m \u001b[43m__pydantic_self__\u001b[49m\u001b[38;5;241;43m.\u001b[39;49m\u001b[43m__pydantic_validator__\u001b[49m\u001b[38;5;241;43m.\u001b[39;49m\u001b[43mvalidate_python\u001b[49m\u001b[43m(\u001b[49m\u001b[43mdata\u001b[49m\u001b[43m,\u001b[49m\u001b[43m \u001b[49m\u001b[43mself_instance\u001b[49m\u001b[38;5;241;43m=\u001b[39;49m\u001b[43m__pydantic_self__\u001b[49m\u001b[43m)\u001b[49m\n",
      "\u001b[1;31mValidationError\u001b[0m: 1 validation error for Dlivery\ndimensios.0\n  Input should be a valid integer, got a number with a fractional part [type=int_from_float, input_value=10.7, input_type=float]\n    For further information visit https://errors.pydantic.dev/2.5/v/int_from_float"
     ]
    }
   ],
   "source": [
    "from datetime import datetime\n",
    "from typing import Tuple\n",
    "\n",
    "from pydantic import BaseModel\n",
    "\n",
    "\n",
    "class Dlivery(BaseModel):\n",
    "    timeStamp : datetime\n",
    "    dimensios : Tuple[int, int]\n",
    "\n",
    "product = Dlivery(timeStamp= \"2020-01-02T03:04:05Z\", dimensios= [10.7, 20])\n",
    "display(product)"
   ]
  },
  {
   "cell_type": "markdown",
   "metadata": {},
   "source": [
    "### Serialization\n",
    "\n",
    "Pydantic provides functionality to serialize model in three ways:\n",
    "\n",
    "To a Python dict made up of the associated Python objects\n",
    "\n",
    "To a Python dict made up only of \"jsonable\" types\n",
    "\n",
    "To a JSON string"
   ]
  },
  {
   "cell_type": "code",
   "execution_count": 8,
   "metadata": {},
   "outputs": [
    {
     "name": "stdout",
     "output_type": "stream",
     "text": [
      "{'when': datetime.datetime(2020, 1, 1, 12, 0), 'where': b'home'}\n",
      "{'when': '2020-01-01T12:00:00', 'why': 'No idea'}\n",
      "{\"when\":\"2020-01-01T12:00:00\",\"where\":\"home\"}\n"
     ]
    }
   ],
   "source": [
    "from datetime import datetime\n",
    "\n",
    "from pydantic import BaseModel\n",
    "\n",
    "\n",
    "class Meeting(BaseModel):\n",
    "    when: datetime\n",
    "    where: bytes\n",
    "    why: str = 'No idea'\n",
    "\n",
    "\n",
    "m = Meeting(when='2020-01-01T12:00', where='home')\n",
    "\n",
    "# exclude_unset, exclude the values which are not sets\n",
    "print(m.model_dump(exclude_unset=True))\n",
    "\n",
    "# exclude={'name_of_value'}, exclude a specific values \n",
    "print(m.model_dump(exclude={'where'}, mode='json'))\n",
    "\n",
    "# exclude_defaults, exclude the values which are set defaults \n",
    "print(m.model_dump_json(exclude_defaults=True))\n"
   ]
  },
  {
   "cell_type": "markdown",
   "metadata": {},
   "source": [
    "### Email validation"
   ]
  },
  {
   "cell_type": "code",
   "execution_count": 15,
   "metadata": {},
   "outputs": [
    {
     "ename": "ValidationError",
     "evalue": "1 validation error for Dlivery\nemail\n  value is not a valid email address: The email address is not valid. It must have exactly one @-sign. [type=value_error, input_value='afrazgmail.com', input_type=str]",
     "output_type": "error",
     "traceback": [
      "\u001b[1;31m---------------------------------------------------------------------------\u001b[0m",
      "\u001b[1;31mValidationError\u001b[0m                           Traceback (most recent call last)",
      "Cell \u001b[1;32mIn[15], line 13\u001b[0m\n\u001b[0;32m     10\u001b[0m     dimensios : Tuple[\u001b[38;5;28mint\u001b[39m, \u001b[38;5;28mint\u001b[39m]\n\u001b[0;32m     11\u001b[0m     email : EmailStr\n\u001b[1;32m---> 13\u001b[0m data \u001b[38;5;241m=\u001b[39m \u001b[43mDlivery\u001b[49m\u001b[43m(\u001b[49m\u001b[43mtimeStamp\u001b[49m\u001b[38;5;241;43m=\u001b[39;49m\u001b[43m \u001b[49m\u001b[38;5;124;43m\"\u001b[39;49m\u001b[38;5;124;43m2020-01-02T03:04:05Z\u001b[39;49m\u001b[38;5;124;43m\"\u001b[39;49m\u001b[43m,\u001b[49m\u001b[43m \u001b[49m\u001b[43mdimensios\u001b[49m\u001b[38;5;241;43m=\u001b[39;49m\u001b[43m[\u001b[49m\u001b[38;5;241;43m23\u001b[39;49m\u001b[43m,\u001b[49m\u001b[38;5;241;43m67\u001b[39;49m\u001b[43m]\u001b[49m\u001b[43m,\u001b[49m\u001b[43m \u001b[49m\u001b[43memail\u001b[49m\u001b[38;5;241;43m=\u001b[39;49m\u001b[38;5;124;43m\"\u001b[39;49m\u001b[38;5;124;43mafrazgmail.com\u001b[39;49m\u001b[38;5;124;43m\"\u001b[39;49m\u001b[43m)\u001b[49m\n\u001b[0;32m     15\u001b[0m display(\u001b[38;5;28mdict\u001b[39m(data))\n\u001b[0;32m     16\u001b[0m display(data\u001b[38;5;241m.\u001b[39memail)\n",
      "File \u001b[1;32mc:\\Users\\Afzal\\miniconda3\\envs\\python12\\Lib\\site-packages\\pydantic\\main.py:164\u001b[0m, in \u001b[0;36mBaseModel.__init__\u001b[1;34m(__pydantic_self__, **data)\u001b[0m\n\u001b[0;32m    162\u001b[0m \u001b[38;5;66;03m# `__tracebackhide__` tells pytest and some other tools to omit this function from tracebacks\u001b[39;00m\n\u001b[0;32m    163\u001b[0m __tracebackhide__ \u001b[38;5;241m=\u001b[39m \u001b[38;5;28;01mTrue\u001b[39;00m\n\u001b[1;32m--> 164\u001b[0m \u001b[43m__pydantic_self__\u001b[49m\u001b[38;5;241;43m.\u001b[39;49m\u001b[43m__pydantic_validator__\u001b[49m\u001b[38;5;241;43m.\u001b[39;49m\u001b[43mvalidate_python\u001b[49m\u001b[43m(\u001b[49m\u001b[43mdata\u001b[49m\u001b[43m,\u001b[49m\u001b[43m \u001b[49m\u001b[43mself_instance\u001b[49m\u001b[38;5;241;43m=\u001b[39;49m\u001b[43m__pydantic_self__\u001b[49m\u001b[43m)\u001b[49m\n",
      "\u001b[1;31mValidationError\u001b[0m: 1 validation error for Dlivery\nemail\n  value is not a valid email address: The email address is not valid. It must have exactly one @-sign. [type=value_error, input_value='afrazgmail.com', input_type=str]"
     ]
    }
   ],
   "source": [
    "from datetime import datetime\n",
    "from typing import Tuple\n",
    "\n",
    "from pydantic import BaseModel, validator, EmailStr\n",
    "\n",
    "# If we add wrong email, EmailStr will raise an exception/error\n",
    "\n",
    "class Dlivery(BaseModel):\n",
    "    timeStamp : datetime\n",
    "    dimensios : Tuple[int, int]\n",
    "    email : EmailStr\n",
    "\n",
    "data = Dlivery(timeStamp= \"2020-01-02T03:04:05Z\", dimensios=[23,67], email=\"afrazgmail.com\")\n",
    "    \n",
    "display(dict(data))\n",
    "display(data.email)\n",
    "\n"
   ]
  },
  {
   "cell_type": "markdown",
   "metadata": {},
   "source": [
    "### Custom Field Validations"
   ]
  },
  {
   "cell_type": "code",
   "execution_count": 17,
   "metadata": {},
   "outputs": [
    {
     "name": "stderr",
     "output_type": "stream",
     "text": [
      "C:\\Users\\Afzal\\AppData\\Local\\Temp\\ipykernel_17460\\1201495448.py:14: PydanticDeprecatedSince20: Pydantic V1 style `@validator` validators are deprecated. You should migrate to Pydantic V2 style `@field_validator` validators, see the migration guide for more details. Deprecated in Pydantic V2.0 to be removed in V3.0. See Pydantic V2 Migration Guide at https://errors.pydantic.dev/2.5/migration/\n",
      "  @validator(\"product_id\")\n"
     ]
    },
    {
     "data": {
      "text/plain": [
       "Dlivery(timeStamp=datetime.datetime(2020, 1, 2, 3, 4, 5, tzinfo=TzInfo(UTC)), dimensios=(23, 67), email='afraz@gmail.com', product_id=40)"
      ]
     },
     "metadata": {},
     "output_type": "display_data"
    }
   ],
   "source": [
    "from datetime import datetime\n",
    "from typing import Tuple\n",
    "\n",
    "from pydantic import BaseModel, validator, EmailStr\n",
    "\n",
    "\n",
    "class Dlivery(BaseModel):\n",
    "    timeStamp : datetime\n",
    "    dimensios : Tuple[int, int]\n",
    "    email : EmailStr\n",
    "    product_id : int\n",
    "\n",
    "\n",
    "    @validator(\"product_id\")\n",
    "    def validate_product_id(cls, val):\n",
    "        if val <= 0 and val >= 60:\n",
    "            raise ValueError(\"product_id must be between 0 and 60\")\n",
    "        return val\n",
    "    \n",
    "data = Dlivery(timeStamp= \"2020-01-02T03:04:05Z\", dimensios=[23,67], email=\"afraz@gmail.com\", product_id=40)\n",
    "display(data)\n"
   ]
  },
  {
   "cell_type": "markdown",
   "metadata": {},
   "source": [
    "### Error generation with Validator"
   ]
  },
  {
   "cell_type": "code",
   "execution_count": 22,
   "metadata": {},
   "outputs": [
    {
     "name": "stderr",
     "output_type": "stream",
     "text": [
      "C:\\Users\\Afzal\\AppData\\Local\\Temp\\ipykernel_17460\\1705128915.py:14: PydanticDeprecatedSince20: Pydantic V1 style `@validator` validators are deprecated. You should migrate to Pydantic V2 style `@field_validator` validators, see the migration guide for more details. Deprecated in Pydantic V2.0 to be removed in V3.0. See Pydantic V2 Migration Guide at https://errors.pydantic.dev/2.5/migration/\n",
      "  @validator(\"product_id\")\n"
     ]
    },
    {
     "ename": "ValidationError",
     "evalue": "1 validation error for Dlivery\nproduct_id\n  Value error, product_id must be between 0 and 60 [type=value_error, input_value=-100, input_type=int]\n    For further information visit https://errors.pydantic.dev/2.5/v/value_error",
     "output_type": "error",
     "traceback": [
      "\u001b[1;31m---------------------------------------------------------------------------\u001b[0m",
      "\u001b[1;31mValidationError\u001b[0m                           Traceback (most recent call last)",
      "Cell \u001b[1;32mIn[22], line 20\u001b[0m\n\u001b[0;32m     17\u001b[0m             \u001b[38;5;28;01mraise\u001b[39;00m \u001b[38;5;167;01mValueError\u001b[39;00m(\u001b[38;5;124m\"\u001b[39m\u001b[38;5;124mproduct_id must be between 0 and 60\u001b[39m\u001b[38;5;124m\"\u001b[39m)\n\u001b[0;32m     18\u001b[0m         \u001b[38;5;28;01mreturn\u001b[39;00m val\n\u001b[1;32m---> 20\u001b[0m data \u001b[38;5;241m=\u001b[39m \u001b[43mDlivery\u001b[49m\u001b[43m(\u001b[49m\u001b[43mtimeStamp\u001b[49m\u001b[38;5;241;43m=\u001b[39;49m\u001b[43m \u001b[49m\u001b[38;5;124;43m\"\u001b[39;49m\u001b[38;5;124;43m2020-01-02T03:04:05Z\u001b[39;49m\u001b[38;5;124;43m\"\u001b[39;49m\u001b[43m,\u001b[49m\u001b[43m \u001b[49m\u001b[43mdimensios\u001b[49m\u001b[38;5;241;43m=\u001b[39;49m\u001b[43m[\u001b[49m\u001b[38;5;241;43m23\u001b[39;49m\u001b[43m,\u001b[49m\u001b[38;5;241;43m67\u001b[39;49m\u001b[43m]\u001b[49m\u001b[43m,\u001b[49m\u001b[43m \u001b[49m\u001b[43memail\u001b[49m\u001b[38;5;241;43m=\u001b[39;49m\u001b[38;5;124;43m\"\u001b[39;49m\u001b[38;5;124;43mafraz@gmail.com\u001b[39;49m\u001b[38;5;124;43m\"\u001b[39;49m\u001b[43m,\u001b[49m\u001b[43m \u001b[49m\u001b[43mproduct_id\u001b[49m\u001b[38;5;241;43m=\u001b[39;49m\u001b[38;5;241;43m-\u001b[39;49m\u001b[38;5;241;43m100\u001b[39;49m\u001b[43m)\u001b[49m\n\u001b[0;32m     21\u001b[0m display(data)\n",
      "File \u001b[1;32mc:\\Users\\Afzal\\miniconda3\\envs\\python12\\Lib\\site-packages\\pydantic\\main.py:164\u001b[0m, in \u001b[0;36mBaseModel.__init__\u001b[1;34m(__pydantic_self__, **data)\u001b[0m\n\u001b[0;32m    162\u001b[0m \u001b[38;5;66;03m# `__tracebackhide__` tells pytest and some other tools to omit this function from tracebacks\u001b[39;00m\n\u001b[0;32m    163\u001b[0m __tracebackhide__ \u001b[38;5;241m=\u001b[39m \u001b[38;5;28;01mTrue\u001b[39;00m\n\u001b[1;32m--> 164\u001b[0m \u001b[43m__pydantic_self__\u001b[49m\u001b[38;5;241;43m.\u001b[39;49m\u001b[43m__pydantic_validator__\u001b[49m\u001b[38;5;241;43m.\u001b[39;49m\u001b[43mvalidate_python\u001b[49m\u001b[43m(\u001b[49m\u001b[43mdata\u001b[49m\u001b[43m,\u001b[49m\u001b[43m \u001b[49m\u001b[43mself_instance\u001b[49m\u001b[38;5;241;43m=\u001b[39;49m\u001b[43m__pydantic_self__\u001b[49m\u001b[43m)\u001b[49m\n",
      "\u001b[1;31mValidationError\u001b[0m: 1 validation error for Dlivery\nproduct_id\n  Value error, product_id must be between 0 and 60 [type=value_error, input_value=-100, input_type=int]\n    For further information visit https://errors.pydantic.dev/2.5/v/value_error"
     ]
    }
   ],
   "source": [
    "from datetime import datetime\n",
    "from typing import Tuple\n",
    "\n",
    "from pydantic import BaseModel, validator, EmailStr\n",
    "\n",
    "\n",
    "class Dlivery(BaseModel):\n",
    "    timeStamp : datetime\n",
    "    dimensios : Tuple[int, int]\n",
    "    email : EmailStr\n",
    "    product_id : int\n",
    "\n",
    "\n",
    "    @validator(\"product_id\")\n",
    "    def validate_product_id(cls, val):\n",
    "        if val <= 0:\n",
    "            raise ValueError(\"product_id must be between 0 and 60\")\n",
    "        return val\n",
    "    \n",
    "data = Dlivery(timeStamp= \"2020-01-02T03:04:05Z\", dimensios=[23,67], email=\"afraz@gmail.com\", product_id=-100)\n",
    "display(data)\n"
   ]
  },
  {
   "cell_type": "markdown",
   "metadata": {},
   "source": [
    "### JSON Serialization"
   ]
  },
  {
   "cell_type": "code",
   "execution_count": 6,
   "metadata": {},
   "outputs": [
    {
     "name": "stderr",
     "output_type": "stream",
     "text": [
      "C:\\Users\\Afzal\\AppData\\Local\\Temp\\ipykernel_11808\\1715365585.py:14: PydanticDeprecatedSince20: Pydantic V1 style `@validator` validators are deprecated. You should migrate to Pydantic V2 style `@field_validator` validators, see the migration guide for more details. Deprecated in Pydantic V2.0 to be removed in V3.0. See Pydantic V2 Migration Guide at https://errors.pydantic.dev/2.5/migration/\n",
      "  @validator(\"product_id\")\n"
     ]
    },
    {
     "data": {
      "text/plain": [
       "Dlivery(timeStamp=datetime.datetime(2020, 1, 2, 3, 4, 5, tzinfo=TzInfo(UTC)), dimensios=(23, 67), email='afraz@gmail.com', product_id=40)"
      ]
     },
     "metadata": {},
     "output_type": "display_data"
    },
    {
     "data": {
      "text/plain": [
       "'Data in JSON:'"
      ]
     },
     "metadata": {},
     "output_type": "display_data"
    },
    {
     "data": {
      "text/plain": [
       "'{\"timeStamp\":\"2020-01-02T03:04:05Z\",\"dimensios\":[23,67],\"email\":\"afraz@gmail.com\",\"product_id\":40}'"
      ]
     },
     "metadata": {},
     "output_type": "display_data"
    }
   ],
   "source": [
    "from datetime import datetime\n",
    "from typing import Tuple\n",
    "\n",
    "from pydantic import BaseModel, validator, EmailStr\n",
    "\n",
    "\n",
    "class Dlivery(BaseModel):\n",
    "    timeStamp : datetime\n",
    "    dimensios : Tuple[int, int]\n",
    "    email : EmailStr\n",
    "    product_id : int\n",
    "\n",
    "\n",
    "    @validator(\"product_id\")\n",
    "    def validate_product_id(cls, val):\n",
    "        if val <= 0 and val >= 60:\n",
    "            raise ValueError(\"product_id must be between 0 and 60\")\n",
    "        return val\n",
    "    \n",
    "data = Dlivery(timeStamp= \"2020-01-02T03:04:05Z\", dimensios=[23,67], email=\"afraz@gmail.com\", product_id=40)\n",
    "display(data)\n",
    "\n",
    "# Converted in to JSON\n",
    "json_data = data.model_dump_json()\n",
    "display(\"Data in JSON:\", json_data)\n"
   ]
  },
  {
   "cell_type": "markdown",
   "metadata": {},
   "source": [
    "### Dictionary Object"
   ]
  },
  {
   "cell_type": "code",
   "execution_count": 8,
   "metadata": {},
   "outputs": [
    {
     "data": {
      "text/plain": [
       "'Data in Dictionary:'"
      ]
     },
     "metadata": {},
     "output_type": "display_data"
    },
    {
     "data": {
      "text/plain": [
       "{'timeStamp': datetime.datetime(2020, 1, 2, 3, 4, 5, tzinfo=TzInfo(UTC)),\n",
       " 'dimensios': (23, 67),\n",
       " 'email': 'afraz@gmail.com',\n",
       " 'product_id': 40}"
      ]
     },
     "metadata": {},
     "output_type": "display_data"
    }
   ],
   "source": [
    "dict_data = data.model_dump()\n",
    "display(\"Data in Dictionary:\",dict_data)"
   ]
  }
 ],
 "metadata": {
  "kernelspec": {
   "display_name": "python12",
   "language": "python",
   "name": "python3"
  },
  "language_info": {
   "codemirror_mode": {
    "name": "ipython",
    "version": 3
   },
   "file_extension": ".py",
   "mimetype": "text/x-python",
   "name": "python",
   "nbconvert_exporter": "python",
   "pygments_lexer": "ipython3",
   "version": "3.12.0"
  }
 },
 "nbformat": 4,
 "nbformat_minor": 2
}
