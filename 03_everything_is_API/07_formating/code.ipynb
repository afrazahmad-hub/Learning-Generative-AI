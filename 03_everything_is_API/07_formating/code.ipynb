{
 "cells": [
  {
   "cell_type": "code",
   "execution_count": null,
   "metadata": {},
   "outputs": [],
   "source": [
    "import json\n",
    "from jsonschema import validate\n",
    "\n",
    "schema = {\n",
    "    \"type\": \"object\",\n",
    "    \"properties\": {\n",
    "        \"name\": {\"type\": \"string\"},\n",
    "        \"age\": {\"type\": \"integer\", \"minimum\": 18}\n",
    "    },\n",
    "    \"required\": [\"name\", \"age\"]\n",
    "}\n",
    "\n",
    "data = {\"name\": \"John Doe\", \"age\": 20}\n",
    "\n",
    "try:\n",
    "    validate(instance=data, schema=schema)\n",
    "    print(\"Data is valid\")\n",
    "except jsonschema.exceptions.ValidationError as e:\n",
    "    print(\"Data is invalid:\", e)"
   ]
  }
 ],
 "metadata": {
  "language_info": {
   "name": "python"
  }
 },
 "nbformat": 4,
 "nbformat_minor": 2
}
